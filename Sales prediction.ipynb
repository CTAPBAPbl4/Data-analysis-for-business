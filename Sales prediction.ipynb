{
 "cells": [
  {
   "cell_type": "code",
   "execution_count": 1,
   "metadata": {},
   "outputs": [],
   "source": [
    "import pandas as pd\n",
    "import re\n",
    "import numpy as np\n",
    "import datetime\n",
    "import matplotlib\n",
    "from matplotlib import pyplot\n",
    "\n",
    "import warnings\n",
    "warnings.filterwarnings('ignore')"
   ]
  },
  {
   "cell_type": "code",
   "execution_count": 2,
   "metadata": {},
   "outputs": [],
   "source": [
    "# Downloaded our data and merge\n",
    "train = pd.read_csv('train.csv')\n",
    "features = pd.read_csv('features.csv')\n",
    "stores = pd.read_csv('stores.csv')\n",
    "\n",
    "d = pd.merge(train, features, how='left', on=['Store','Date'])\n",
    "df = pd.merge(d, stores, how='left', on='Store')\n",
    "\n",
    "# Generate week and year\n",
    "df['Year'] = df['Date'].apply(lambda time: int(time[0:4]))\n",
    "\n",
    "def week(x):\n",
    "    y = int(x.split('-')[0])\n",
    "    m = int(x.split('-')[1])\n",
    "    d = int(x.split('-')[2])\n",
    "    return int(datetime.date(y, m, d).strftime(\"%W\"))\n",
    "\n",
    "df['Week'] = df['Date'].apply(week)\n",
    "\n",
    "# Sort values\n",
    "df = df.sort_values(by = ['Year', 'Week', 'Store', 'Dept'])\n",
    "\n",
    "# Created Sample Weight \n",
    "df['Sample Weight'] = df['IsHoliday_x'].apply(lambda x: 1 if x == False else 5)\n",
    "\n",
    "# Splited data into test and training\n",
    "df.index = range(0,len(df))\n",
    "test_df = df[df['Year'] == 2012][df['Week'] >= 5]\n",
    "train_df = df[:305981]"
   ]
  },
  {
   "cell_type": "code",
   "execution_count": 3,
   "metadata": {},
   "outputs": [
    {
     "name": "stdout",
     "output_type": "stream",
     "text": [
      "1 - 4 , 2 - 73 , 3 -  3\n"
     ]
    }
   ],
   "source": [
    "# Task 1\n",
    "# Creating month and group by it\n",
    "df['Year_Month'] = df['Date'].apply(lambda x: x.split('-')[0] + ' ' + x.split('-')[1])\n",
    "train_df['Year_Month'] = train_df['Date'].apply(lambda x: x.split('-')[0] + ' ' + x.split('-')[1])\n",
    "test_df['Year_Month'] = test_df['Date'].apply(lambda x: x.split('-')[0] + ' ' + x.split('-')[1])\n",
    "\n",
    "gr = df.groupby(['Year_Month', 'Store']).agg({'Weekly_Sales':'sum'})\n",
    "\n",
    "#The biggest sales in September 2011 was in 4'th store\n",
    "gr.loc[('2011 09',)][gr.loc[('2011 09',)] == gr.loc[('2011 09',)].max()]\n",
    "#The lowest sales in January 2011 was in 33'th store\n",
    "gr.loc[('2011 01',)][gr.loc[('2011 01',)] == gr.loc[('2011 01',)].min()]\n",
    "\n",
    "# Bigger sales in holydays in holydays (answer is 72, 77, 99)\n",
    "hod = train_df.groupby(['IsHoliday_x', 'Dept']).agg({'Weekly_Sales':'mean'})\n",
    "\n",
    "num_of_depts_plus = []\n",
    "for i in hod.loc[(True)].index:\n",
    "    if (float(hod.loc[(True,i)]) / float(hod.loc[(False,i)])) >= 2:\n",
    "        num_of_depts_plus.append(i)\n",
    "num_of_depts_plus\n",
    "\n",
    "# Smaller sales in holidays(answer is 16, 43, 47, 56)\n",
    "num_of_depts_minus = []\n",
    "for i in hod.loc[(True,)].index:\n",
    "    if (float(hod.loc[(True,i)]) / float(hod.loc[(False,i)])) <= 0.5:\n",
    "        num_of_depts_minus.append(i)\n",
    "        \n",
    "# Created Department_Type \n",
    "def dep_type(x):\n",
    "    if x in num_of_depts_minus:\n",
    "        return 1\n",
    "    elif x in num_of_depts_plus:\n",
    "        return 3\n",
    "    else:\n",
    "        return 2\n",
    "train_df['Department_Type'] = train_df['Dept'].apply(dep_type)\n",
    "test_df['Department_Type'] = test_df['Dept'].apply(dep_type)\n",
    "\n",
    "# Number of departments (1 - 4 , 2 - 73 , 3 -  3)\n",
    "print('1 -', len(num_of_depts_minus),\n",
    "      ', 2 -',  train_df['Dept'].nunique() - (len(num_of_depts_minus) + len(num_of_depts_minus)),\n",
    "      ', 3 - ', len(num_of_depts_plus))"
   ]
  },
  {
   "cell_type": "code",
   "execution_count": 4,
   "metadata": {},
   "outputs": [
    {
     "data": {
      "text/plain": [
       "0.242"
      ]
     },
     "execution_count": 4,
     "metadata": {},
     "output_type": "execute_result"
    }
   ],
   "source": [
    "# Task 2\n",
    "# Correlation = 0.244\n",
    "round(train_df['Weekly_Sales'].corr(train_df['Size']), 3)"
   ]
  },
  {
   "cell_type": "code",
   "execution_count": 136,
   "metadata": {},
   "outputs": [
    {
     "data": {
      "image/png": "[encoded data removed]",
      "text/plain": [
       "<Figure size 432x288 with 1 Axes>"
      ]
     },
     "metadata": {
      "needs_background": "light"
     },
     "output_type": "display_data"
    }
   ],
   "source": [
    "matplotlib.pyplot.scatter(df['Weekly_Sales'], df['Size'])\n",
    "matplotlib.pyplot.show()"
   ]
  },
  {
   "cell_type": "code",
   "execution_count": 6,
   "metadata": {},
   "outputs": [
    {
     "data": {
      "image/png": "[encoded data removed]",
      "text/plain": [
       "<Figure size 432x288 with 1 Axes>"
      ]
     },
     "metadata": {
      "needs_background": "light"
     },
     "output_type": "display_data"
    }
   ],
   "source": [
    "dff = train_df[train_df['Weekly_Sales'] <= 70000]\n",
    "df_1 = dff['Weekly_Sales'][dff['Type'] == 'A']\n",
    "df_2 = dff['Weekly_Sales'][dff['Type'] == 'B']\n",
    "df_3 = dff['Weekly_Sales'][dff['Type'] == 'C']\n",
    "data = [df_1, df_2, df_3]\n",
    "\n",
    "matplotlib.pyplot.boxplot(data)\n",
    "matplotlib.pyplot.show()"
   ]
  },
  {
   "cell_type": "code",
   "execution_count": 7,
   "metadata": {},
   "outputs": [
    {
     "name": "stdout",
     "output_type": "stream",
     "text": [
      "       Weekly_Sales\n",
      "Store              \n",
      "10      200092030.4\n"
     ]
    }
   ],
   "source": [
    "# Find stores Type `B` with sales higher than 80 ... 10'th store\n",
    "gsb = train_df[train_df['Type'] == 'B'].groupby('Store').agg({'Weekly_Sales':'sum'})\n",
    "gsa = train_df[train_df['Type'] == 'A'].groupby('Store').agg({'Weekly_Sales':'sum'})\n",
    "print(gsb[gsb['Weekly_Sales'] >= np.percentile(gsa['Weekly_Sales'], 80)])"
   ]
  },
  {
   "cell_type": "code",
   "execution_count": 4,
   "metadata": {},
   "outputs": [
    {
     "data": {
      "text/html": [
       "<div>\n",
       "<style scoped>\n",
       "    .dataframe tbody tr th:only-of-type {\n",
       "        vertical-align: middle;\n",
       "    }\n",
       "\n",
       "    .dataframe tbody tr th {\n",
       "        vertical-align: top;\n",
       "    }\n",
       "\n",
       "    .dataframe thead th {\n",
       "        text-align: right;\n",
       "    }\n",
       "</style>\n",
       "<table border=\"1\" class=\"dataframe\">\n",
       "  <thead>\n",
       "    <tr style=\"text-align: right;\">\n",
       "      <th></th>\n",
       "      <th>Weekly_Sales</th>\n",
       "    </tr>\n",
       "    <tr>\n",
       "      <th>Total_Sales_Store_Type</th>\n",
       "      <th></th>\n",
       "    </tr>\n",
       "  </thead>\n",
       "  <tbody>\n",
       "    <tr>\n",
       "      <th>1</th>\n",
       "      <td>9</td>\n",
       "    </tr>\n",
       "    <tr>\n",
       "      <th>2</th>\n",
       "      <td>9</td>\n",
       "    </tr>\n",
       "    <tr>\n",
       "      <th>3</th>\n",
       "      <td>9</td>\n",
       "    </tr>\n",
       "    <tr>\n",
       "      <th>4</th>\n",
       "      <td>9</td>\n",
       "    </tr>\n",
       "    <tr>\n",
       "      <th>5</th>\n",
       "      <td>9</td>\n",
       "    </tr>\n",
       "  </tbody>\n",
       "</table>\n",
       "</div>"
      ],
      "text/plain": [
       "                        Weekly_Sales\n",
       "Total_Sales_Store_Type              \n",
       "1                                  9\n",
       "2                                  9\n",
       "3                                  9\n",
       "4                                  9\n",
       "5                                  9"
      ]
     },
     "execution_count": 4,
     "metadata": {},
     "output_type": "execute_result"
    }
   ],
   "source": [
    "# Sales_store_type\n",
    "sst = train_df.groupby('Store').agg({'Weekly_Sales':'sum'})\n",
    "sst['Total_Sales_Store_Type'] = ''\n",
    "\n",
    "for i in range(0,45):\n",
    "    if sst.iloc[i,0] >= np.percentile(sst['Weekly_Sales'], 80):\n",
    "        sst.iloc[i,1] = 5\n",
    "    elif sst.iloc[i,0] >= np.percentile(sst['Weekly_Sales'], 60):\n",
    "        sst.iloc[i,1] = 4\n",
    "    elif sst.iloc[i,0] >= np.percentile(sst['Weekly_Sales'], 40):\n",
    "        sst.iloc[i,1] = 3\n",
    "    elif sst.iloc[i,0] >= np.percentile(sst['Weekly_Sales'], 20):\n",
    "        sst.iloc[i,1] = 2\n",
    "    else:\n",
    "        sst.iloc[i,1] = 1\n",
    "\n",
    "# applied to all df\n",
    "train_df['Total_Sales_Store_Type'] = train_df['Store'].apply(lambda x: sst['Total_Sales_Store_Type'][x])\n",
    "test_df['Total_Sales_Store_Type'] = test_df['Store'].apply(lambda x: sst['Total_Sales_Store_Type'][x])\n",
    "\n",
    "# counted number of each store's type, all types by 9 stores\n",
    "sst.groupby('Total_Sales_Store_Type').count() "
   ]
  },
  {
   "cell_type": "code",
   "execution_count": 9,
   "metadata": {},
   "outputs": [
    {
     "name": "stdout",
     "output_type": "stream",
     "text": [
      "Number of holidays in train set -  8\n",
      "Number of holidays in test set -  2\n"
     ]
    }
   ],
   "source": [
    "# Counted number of holidays in train and test set (8 in train and 2 in test)\n",
    "ih = train_df.groupby('Date').agg({'IsHoliday_x':'sum'})\n",
    "print('Number of holidays in train set - ', len(ih[ih['IsHoliday_x'] != 0]))\n",
    "tih = test_df.groupby('Date').agg({'IsHoliday_x':'sum'})\n",
    "print('Number of holidays in test set - ', len(tih[tih['IsHoliday_x'] != 0]))"
   ]
  },
  {
   "cell_type": "code",
   "execution_count": 10,
   "metadata": {},
   "outputs": [
    {
     "data": {
      "text/html": [
       "<div>\n",
       "<style scoped>\n",
       "    .dataframe tbody tr th:only-of-type {\n",
       "        vertical-align: middle;\n",
       "    }\n",
       "\n",
       "    .dataframe tbody tr th {\n",
       "        vertical-align: top;\n",
       "    }\n",
       "\n",
       "    .dataframe thead th {\n",
       "        text-align: right;\n",
       "    }\n",
       "</style>\n",
       "<table border=\"1\" class=\"dataframe\">\n",
       "  <thead>\n",
       "    <tr style=\"text-align: right;\">\n",
       "      <th></th>\n",
       "      <th>IsHoliday_x</th>\n",
       "    </tr>\n",
       "    <tr>\n",
       "      <th>Date</th>\n",
       "      <th></th>\n",
       "    </tr>\n",
       "  </thead>\n",
       "  <tbody>\n",
       "    <tr>\n",
       "      <th>2010-02-12</th>\n",
       "      <td>2956.0</td>\n",
       "    </tr>\n",
       "    <tr>\n",
       "      <th>2010-09-10</th>\n",
       "      <td>2937.0</td>\n",
       "    </tr>\n",
       "    <tr>\n",
       "      <th>2010-11-26</th>\n",
       "      <td>2938.0</td>\n",
       "    </tr>\n",
       "    <tr>\n",
       "      <th>2010-12-31</th>\n",
       "      <td>2943.0</td>\n",
       "    </tr>\n",
       "    <tr>\n",
       "      <th>2011-02-11</th>\n",
       "      <td>2938.0</td>\n",
       "    </tr>\n",
       "    <tr>\n",
       "      <th>2011-09-09</th>\n",
       "      <td>2958.0</td>\n",
       "    </tr>\n",
       "    <tr>\n",
       "      <th>2011-11-25</th>\n",
       "      <td>3021.0</td>\n",
       "    </tr>\n",
       "    <tr>\n",
       "      <th>2011-12-30</th>\n",
       "      <td>3003.0</td>\n",
       "    </tr>\n",
       "  </tbody>\n",
       "</table>\n",
       "</div>"
      ],
      "text/plain": [
       "            IsHoliday_x\n",
       "Date                   \n",
       "2010-02-12       2956.0\n",
       "2010-09-10       2937.0\n",
       "2010-11-26       2938.0\n",
       "2010-12-31       2943.0\n",
       "2011-02-11       2938.0\n",
       "2011-09-09       2958.0\n",
       "2011-11-25       3021.0\n",
       "2011-12-30       3003.0"
      ]
     },
     "execution_count": 10,
     "metadata": {},
     "output_type": "execute_result"
    }
   ],
   "source": [
    "ih[ih['IsHoliday_x'] != 0]"
   ]
  },
  {
   "cell_type": "code",
   "execution_count": 11,
   "metadata": {},
   "outputs": [],
   "source": [
    "# Commented because it takes a lot of time\n",
    "supbow = 6\n",
    "blackfr = 47\n",
    "christ = 52\n",
    "df['Is_SuperBowl'] = df['Week'].apply(lambda x: 1 if x == supbow else 0)\n",
    "df['Is_BlackFriday'] = df['Week'].apply(lambda x: 1 if x == blackfr else 0)\n",
    "df['Is_Christmas'] = df['Week'].apply(lambda x: 1 if x == christ else 0)\n",
    "df['Regular_weeks'] = df['IsHoliday_x'].apply(lambda x: 1 if x == False else 0)\n",
    "df['Other_holidays'] = ''\n",
    "for i in df.index:\n",
    "    if df.loc[i,'Is_SuperBowl'] == 0 and df.loc[i,'Is_BlackFriday'] == 0 and df.loc[i,'Is_Christmas'] == 0 and df.loc[i,'Regular_weeks'] == 0:\n",
    "        df.loc[i,'Other_holidays'] = 1\n",
    "    else:\n",
    "        df.loc[i,'Other_holidays'] = 0    "
   ]
  },
  {
   "cell_type": "code",
   "execution_count": 12,
   "metadata": {},
   "outputs": [],
   "source": [
    "#df.to_csv('our_train.csv')"
   ]
  },
  {
   "cell_type": "code",
   "execution_count": 13,
   "metadata": {},
   "outputs": [],
   "source": [
    "#df = pd.read_csv('our_train.csv', index_col = 0)"
   ]
  },
  {
   "cell_type": "code",
   "execution_count": 14,
   "metadata": {},
   "outputs": [
    {
     "data": {
      "text/html": [
       "<div>\n",
       "<style scoped>\n",
       "    .dataframe tbody tr th:only-of-type {\n",
       "        vertical-align: middle;\n",
       "    }\n",
       "\n",
       "    .dataframe tbody tr th {\n",
       "        vertical-align: top;\n",
       "    }\n",
       "\n",
       "    .dataframe thead th {\n",
       "        text-align: right;\n",
       "    }\n",
       "</style>\n",
       "<table border=\"1\" class=\"dataframe\">\n",
       "  <thead>\n",
       "    <tr style=\"text-align: right;\">\n",
       "      <th></th>\n",
       "      <th>Other_holidays</th>\n",
       "    </tr>\n",
       "    <tr>\n",
       "      <th>Date</th>\n",
       "      <th></th>\n",
       "    </tr>\n",
       "  </thead>\n",
       "  <tbody>\n",
       "    <tr>\n",
       "      <th>2010-09-10</th>\n",
       "      <td>2937</td>\n",
       "    </tr>\n",
       "    <tr>\n",
       "      <th>2011-09-09</th>\n",
       "      <td>2958</td>\n",
       "    </tr>\n",
       "    <tr>\n",
       "      <th>2012-09-07</th>\n",
       "      <td>2966</td>\n",
       "    </tr>\n",
       "  </tbody>\n",
       "</table>\n",
       "</div>"
      ],
      "text/plain": [
       "            Other_holidays\n",
       "Date                      \n",
       "2010-09-10            2937\n",
       "2011-09-09            2958\n",
       "2012-09-07            2966"
      ]
     },
     "execution_count": 14,
     "metadata": {},
     "output_type": "execute_result"
    }
   ],
   "source": [
    "# There is 3 other holidays in whole train set\n",
    "oh = df.groupby('Date').agg({'Other_holidays':'sum'})\n",
    "oh[oh['Other_holidays'] != 0]"
   ]
  },
  {
   "cell_type": "code",
   "execution_count": 15,
   "metadata": {},
   "outputs": [
    {
     "name": "stdout",
     "output_type": "stream",
     "text": [
      "Top 10 highest sales stores\n",
      "% of sales in Black Friday -  3.0\n",
      "% of sales in Super Bowl -  2.0\n",
      "% of sales Christmas -  2.0\n"
     ]
    }
   ],
   "source": [
    "# Percent of sales in different holidays (3, 2, 2) Highest\n",
    "per = df[df['Year'] == 2011]\n",
    "\n",
    "stors_sals = per.groupby('Store').agg({'Weekly_Sales':'sum'}).sort_values(by = 'Weekly_Sales', ascending = False)[1:10]\n",
    "print('Top 10 highest sales stores')\n",
    "\n",
    "bf = per[per['Is_BlackFriday'] == 1].groupby('Store').agg({'Weekly_Sales':'sum'})\n",
    "print('% of sales in Black Friday - ', round((bf.loc[stors_sals.index.tolist()]['Weekly_Sales'].sum() / \n",
    "                                              stors_sals['Weekly_Sales'].sum()) * 100, 0))\n",
    "\n",
    "sb = per[per['Is_SuperBowl'] == 1].groupby('Store').agg({'Weekly_Sales':'sum'})\n",
    "print('% of sales in Super Bowl - ', round((sb.loc[stors_sals.index.tolist()]['Weekly_Sales'].sum() / \n",
    "                                              stors_sals['Weekly_Sales'].sum()) * 100, 0))\n",
    "\n",
    "ch = per[per['Is_Christmas'] == 1].groupby('Store').agg({'Weekly_Sales':'sum'})\n",
    "print('% of sales Christmas - ', round((ch.loc[stors_sals.index.tolist()]['Weekly_Sales'].sum() / \n",
    "                                              stors_sals['Weekly_Sales'].sum()) * 100, 0))\n"
   ]
  },
  {
   "cell_type": "code",
   "execution_count": 16,
   "metadata": {},
   "outputs": [
    {
     "name": "stdout",
     "output_type": "stream",
     "text": [
      "Top 10 lowest sales stores\n",
      "% of sales in Black Friday -  2.0\n",
      "% of sales in Super Bowl -  2.0\n",
      "% of sales Christmas -  2.0\n"
     ]
    }
   ],
   "source": [
    "# Percent of sales in different holidays (2, 2, 2) Lowest\n",
    "per = df[df['Year'] == 2011]\n",
    "\n",
    "stors_sals = per.groupby('Store').agg({'Weekly_Sales':'sum'}).sort_values(by = 'Weekly_Sales')[1:10]\n",
    "print('Top 10 lowest sales stores')\n",
    "\n",
    "bf = per[per['Is_BlackFriday'] == 1].groupby('Store').agg({'Weekly_Sales':'sum'})\n",
    "print('% of sales in Black Friday - ', round((bf.loc[stors_sals.index.tolist()]['Weekly_Sales'].sum() / \n",
    "                                              stors_sals['Weekly_Sales'].sum()) * 100, 0))\n",
    "\n",
    "sb = per[per['Is_SuperBowl'] == 1].groupby('Store').agg({'Weekly_Sales':'sum'})\n",
    "print('% of sales in Super Bowl - ', round((sb.loc[stors_sals.index.tolist()]['Weekly_Sales'].sum() / \n",
    "                                              stors_sals['Weekly_Sales'].sum()) * 100, 0))\n",
    "\n",
    "ch = per[per['Is_Christmas'] == 1].groupby('Store').agg({'Weekly_Sales':'sum'})\n",
    "print('% of sales Christmas - ', round((ch.loc[stors_sals.index.tolist()]['Weekly_Sales'].sum() / \n",
    "                                              stors_sals['Weekly_Sales'].sum()) * 100, 0))"
   ]
  },
  {
   "cell_type": "code",
   "execution_count": 17,
   "metadata": {},
   "outputs": [
    {
     "data": {
      "image/png": "[encoded data removed]",
      "text/plain": [
       "<Figure size 432x288 with 1 Axes>"
      ]
     },
     "metadata": {
      "needs_background": "light"
     },
     "output_type": "display_data"
    }
   ],
   "source": [
    "# Temperature\n",
    "temp = df.groupby('Store').agg({'Temperature':'mean'})\n",
    "\n",
    "matplotlib.pyplot.plot(temp)\n",
    "matplotlib.pyplot.show()"
   ]
  },
  {
   "cell_type": "code",
   "execution_count": 18,
   "metadata": {},
   "outputs": [
    {
     "data": {
      "image/png": "[encoded data removed]",
      "text/plain": [
       "<Figure size 432x288 with 1 Axes>"
      ]
     },
     "metadata": {
      "needs_background": "light"
     },
     "output_type": "display_data"
    }
   ],
   "source": [
    "matplotlib.pyplot.scatter(train_df['Temperature'], train_df['Weekly_Sales'])\n",
    "matplotlib.pyplot.show()"
   ]
  },
  {
   "cell_type": "code",
   "execution_count": 19,
   "metadata": {},
   "outputs": [
    {
     "data": {
      "text/plain": [
       "-0.004"
      ]
     },
     "execution_count": 19,
     "metadata": {},
     "output_type": "execute_result"
    }
   ],
   "source": [
    "round(train_df['Weekly_Sales'].corr(train_df['Temperature']), 3)"
   ]
  },
  {
   "cell_type": "code",
   "execution_count": 20,
   "metadata": {},
   "outputs": [
    {
     "name": "stdout",
     "output_type": "stream",
     "text": [
      "       Temperature\n",
      "Store             \n",
      "7        62.443491\n",
      "       Temperature\n",
      "Store             \n",
      "33       96.671743\n"
     ]
    }
   ],
   "source": [
    "# Stores with the biggest difference - 7 and 33\n",
    "t = df[(df['Year'] == 2010)&(df['Week'] >= 26)&(df['Week'] <= 30)].groupby('Store').agg({'Temperature':'mean'}) \n",
    "print(t[t['Temperature']== t['Temperature'].min()])\n",
    "print(t[t['Temperature']== t['Temperature'].max()])"
   ]
  },
  {
   "cell_type": "code",
   "execution_count": 142,
   "metadata": {},
   "outputs": [
    {
     "data": {
      "image/png": "[encoded data removed]",
      "text/plain": [
       "<Figure size 432x288 with 1 Axes>"
      ]
     },
     "metadata": {
      "needs_background": "light"
     },
     "output_type": "display_data"
    }
   ],
   "source": [
    "st7 = df[df['Store'] == 7]\n",
    "gr7 = st7.groupby('Week').agg({'Temperature':'mean'})\n",
    "st33 = df[df['Store'] == 33]\n",
    "gr33 = st33.groupby('Week').agg({'Temperature':'mean'})\n",
    "grs = gr7.merge(gr33, left_index = True, right_index=True)\n",
    "matplotlib.pyplot.plot(grs)\n",
    "matplotlib.pyplot.show()"
   ]
  },
  {
   "cell_type": "code",
   "execution_count": 143,
   "metadata": {},
   "outputs": [
    {
     "name": "stdout",
     "output_type": "stream",
     "text": [
      "-0.012\n",
      "-0.003\n"
     ]
    }
   ],
   "source": [
    "print(round(train_df['Weekly_Sales'][df['Store'] == 7].corr(train_df['Temperature'][df['Store'] == 7]), 3))\n",
    "print(round(train_df['Weekly_Sales'][df['Store'] == 33].corr(train_df['Temperature'][df['Store'] == 33]), 3))"
   ]
  },
  {
   "cell_type": "code",
   "execution_count": 21,
   "metadata": {},
   "outputs": [],
   "source": [
    "#Average month temperature for every store\n",
    "\n",
    "tg = train_df.groupby(['Year_Month','Store']).agg({'Temperature':'mean'})\n",
    "\n",
    "train_df['Average_Temperature_month'] = ''\n",
    "for i in train_df.index:\n",
    "    train_df['Average_Temperature_month'][i] = float(tg.loc[(train_df['Year_Month'][i], train_df['Store'][i])])\n",
    "\n",
    "#train_df.to_csv('train_df.csv')"
   ]
  },
  {
   "cell_type": "code",
   "execution_count": 137,
   "metadata": {},
   "outputs": [],
   "source": [
    "#train_df = pd.read_csv('train_df.csv', index_col = 0)"
   ]
  },
  {
   "cell_type": "code",
   "execution_count": 23,
   "metadata": {},
   "outputs": [],
   "source": [
    "tg = test_df.groupby(['Year_Month','Store']).agg({'Temperature':'mean'})\n",
    "\n",
    "test_df['Average_Temperature_month'] = ''\n",
    "for i in test_df.index:\n",
    "    test_df['Average_Temperature_month'][i] = float(tg.loc[(test_df['Year_Month'][i], test_df['Store'][i])])\n",
    "test_df['Month'] = test_df['Date'].apply(lambda x: x.split('-')[1])\n",
    "#test_df.to_csv('test_df.csv')\n"
   ]
  },
  {
   "cell_type": "code",
   "execution_count": 72,
   "metadata": {},
   "outputs": [],
   "source": [
    "#test_df = pd.read_csv('test_df.csv', index_col = 0)"
   ]
  },
  {
   "cell_type": "code",
   "execution_count": 74,
   "metadata": {},
   "outputs": [],
   "source": [
    "cols = ['Fuel_Price', 'MarkDown1', 'MarkDown2', 'MarkDown3', 'MarkDown4', 'MarkDown5', 'CPI', 'Unemployment', 'Temperature', 'Date']"
   ]
  },
  {
   "cell_type": "code",
   "execution_count": 75,
   "metadata": {},
   "outputs": [],
   "source": [
    "# Delete needless columns\n",
    "train_df = train_df.drop(columns = cols)\n",
    "train_df = train_df.drop(columns = ['IsHoliday_x', 'IsHoliday_y', 'Type', 'Year_Month'])"
   ]
  },
  {
   "cell_type": "code",
   "execution_count": 76,
   "metadata": {},
   "outputs": [],
   "source": [
    "test_df = test_df.drop(columns = cols)\n",
    "test_df = test_df.drop(columns = ['IsHoliday_x', 'IsHoliday_y', 'Type', 'Year_Month'])"
   ]
  },
  {
   "cell_type": "code",
   "execution_count": 77,
   "metadata": {},
   "outputs": [],
   "source": [
    "holdays = df.iloc[:,-5:]\n",
    "train_df = train_df.merge(holdays, left_index = True, right_index=True)\n",
    "test_df = test_df.merge(holdays, left_index = True, right_index=True)"
   ]
  },
  {
   "cell_type": "code",
   "execution_count": 29,
   "metadata": {},
   "outputs": [
    {
     "name": "stdout",
     "output_type": "stream",
     "text": [
      "MAE on train :  4499.893 , MAE on test :  4661.706\n"
     ]
    }
   ],
   "source": [
    "from sklearn.ensemble import RandomForestRegressor\n",
    "from sklearn.metrics import mean_absolute_error\n",
    "from sklearn import preprocessing\n",
    "\n",
    "\n",
    "col = 'Weekly_Sales'\n",
    "y_train = train_df[col]\n",
    "x_train = train_df.drop(columns = col)\n",
    "y_test = test_df[col]\n",
    "x_test = test_df.drop(columns = col)\n",
    "\n",
    "clf = RandomForestRegressor(n_estimators = 10, max_depth = 10)\n",
    "clf.fit(x_train, y_train, sample_weight=x_train['Sample Weight'])\n",
    "\n",
    "train_pred = clf.predict(x_train)\n",
    "test_pred = clf.predict(x_test)\n",
    "print('MAE on train : ', round(mean_absolute_error(y_train, train_pred, sample_weight=x_train['Sample Weight']), 3), \n",
    "      ', MAE on test : ', round(mean_absolute_error(y_test, test_pred, sample_weight=x_test['Sample Weight']), 3))"
   ]
  },
  {
   "cell_type": "code",
   "execution_count": null,
   "metadata": {},
   "outputs": [],
   "source": [
    "# Grid Search\n",
    "\n",
    "max_features = []\n",
    "i = 0\n",
    "while i <= 0.9:\n",
    "    i += 0.1\n",
    "    max_features.append(round(i,1))\n",
    "results = []\n",
    "for n_est in range(5,50,2):\n",
    "    for max_fea in max_features:\n",
    "        for max_dep in range(2, 20, 1):\n",
    "            clf = RandomForestRegressor(n_estimators = n_est, max_features = max_fea, max_depth = max_dep)\n",
    "            clf.fit(x_train, y_train, sample_weight=x_train['Sample Weight'])\n",
    "            test_pred = clf.predict(x_test)\n",
    "            print(n_est, max_fea, max_dep, round(mean_absolute_error(y_test, test_pred, sample_weight=x_test['Sample Weight']), 3))\n",
    "            results.append([n_est, max_fea, max_dep, round(mean_absolute_error(y_test, test_pred, sample_weight=x_test['Sample Weight']), 3)])\n",
    "print('###################################')\n",
    "print(results)\n",
    "\n",
    "rdf = pd.DataFrame(results)\n",
    "#rdf"
   ]
  },
  {
   "cell_type": "code",
   "execution_count": 35,
   "metadata": {},
   "outputs": [
    {
     "data": {
      "text/plain": [
       "2649.103"
      ]
     },
     "execution_count": 35,
     "metadata": {},
     "output_type": "execute_result"
    }
   ],
   "source": [
    "rdf['3'].min()"
   ]
  },
  {
   "cell_type": "code",
   "execution_count": 36,
   "metadata": {},
   "outputs": [
    {
     "data": {
      "text/html": [
       "<div>\n",
       "<style scoped>\n",
       "    .dataframe tbody tr th:only-of-type {\n",
       "        vertical-align: middle;\n",
       "    }\n",
       "\n",
       "    .dataframe tbody tr th {\n",
       "        vertical-align: top;\n",
       "    }\n",
       "\n",
       "    .dataframe thead th {\n",
       "        text-align: right;\n",
       "    }\n",
       "</style>\n",
       "<table border=\"1\" class=\"dataframe\">\n",
       "  <thead>\n",
       "    <tr style=\"text-align: right;\">\n",
       "      <th></th>\n",
       "      <th>0</th>\n",
       "      <th>1</th>\n",
       "      <th>2</th>\n",
       "      <th>3</th>\n",
       "    </tr>\n",
       "  </thead>\n",
       "  <tbody>\n",
       "    <tr>\n",
       "      <th>3203</th>\n",
       "      <td>39</td>\n",
       "      <td>0.8</td>\n",
       "      <td>19</td>\n",
       "      <td>2649.103</td>\n",
       "    </tr>\n",
       "  </tbody>\n",
       "</table>\n",
       "</div>"
      ],
      "text/plain": [
       "       0    1   2         3\n",
       "3203  39  0.8  19  2649.103"
      ]
     },
     "execution_count": 36,
     "metadata": {},
     "output_type": "execute_result"
    }
   ],
   "source": [
    "rdf[rdf['3'] == 2649.103]"
   ]
  },
  {
   "cell_type": "code",
   "execution_count": 78,
   "metadata": {},
   "outputs": [
    {
     "name": "stdout",
     "output_type": "stream",
     "text": [
      "MAE on train :  967.615 , MAE on test :  2761.226\n"
     ]
    }
   ],
   "source": [
    "# Build a model with the best parameters\n",
    "from sklearn.ensemble import RandomForestRegressor\n",
    "from sklearn.metrics import mean_absolute_error\n",
    "from sklearn import preprocessing\n",
    "\n",
    "\n",
    "col = 'Weekly_Sales'\n",
    "y_train = train_df[col]\n",
    "x_train = train_df.drop(columns = col)\n",
    "y_test = test_df[col]\n",
    "x_test = test_df.drop(columns = col)\n",
    "\n",
    "clf = RandomForestRegressor(n_estimators = 39, max_features = 0.8, max_depth = 19)\n",
    "clf.fit(x_train, y_train, sample_weight=x_train['Sample Weight'])\n",
    "\n",
    "train_pred = clf.predict(x_train)\n",
    "test_pred = clf.predict(x_test)\n",
    "print('MAE on train : ', round(mean_absolute_error(y_train, train_pred, sample_weight=x_train['Sample Weight']), 3), \n",
    "      ', MAE on test : ', round(mean_absolute_error(y_test, test_pred, sample_weight=x_test['Sample Weight']), 3))"
   ]
  },
  {
   "cell_type": "code",
   "execution_count": 80,
   "metadata": {},
   "outputs": [],
   "source": [
    "# Save predictions of the best model\n",
    "\n",
    "Train_Predictions = pd.DataFrame(train_pred)\n",
    "Train_Predictions.to_csv('Train_Predictions.csv')\n",
    "\n",
    "Test_Predictions = pd.DataFrame(test_pred)\n",
    "Test_Predictions.to_csv('Test_Predictions.csv')\n",
    "\n",
    "# Difference between default model od our best is 1975.053"
   ]
  },
  {
   "cell_type": "code",
   "execution_count": 116,
   "metadata": {},
   "outputs": [
    {
     "name": "stdout",
     "output_type": "stream",
     "text": [
      "MAE for Sales Store Type 1 = 1055.016\n",
      "MAE for Sales Store Type 2 = 1803.788\n",
      "MAE for Sales Store Type 3 = 2425.515\n",
      "MAE for Sales Store Type 4 = 3328.194\n",
      "MAE for Sales Store Type 5 = 4788.701\n"
     ]
    },
    {
     "data": {
      "image/png": "[encoded data removed]",
      "text/plain": [
       "<Figure size 432x288 with 1 Axes>"
      ]
     },
     "metadata": {
      "needs_background": "light"
     },
     "output_type": "display_data"
    }
   ],
   "source": [
    "# MAE for different sales store types\n",
    "\n",
    "train_df1 = train_df.merge(Train_Predictions, left_index = True, right_index=True)\n",
    "train_df1 = train_df1.rename(columns = {0:'Predicted'}) \n",
    "\n",
    "Test_Predictions.index = test_df.index\n",
    "test_df1 = test_df.merge(Test_Predictions, left_index = True, right_index=True)\n",
    "test_df1 = test_df1.rename(columns = {0:'Predicted'})\n",
    "\n",
    "mast = []\n",
    "for types in range(1,6):\n",
    "    print('MAE for Sales Store Type', types, '=', \n",
    "         round(mean_absolute_error(test_df1['Weekly_Sales'][test_df1['Total_Sales_Store_Type'] == types], \n",
    "                                   test_df1['Predicted'][test_df1['Total_Sales_Store_Type'] == types]), 3))\n",
    "    mast.append([types, round(mean_absolute_error(test_df1['Weekly_Sales'][test_df1['Total_Sales_Store_Type'] == types], \n",
    "                                   test_df1['Predicted'][test_df1['Total_Sales_Store_Type'] == types]), 3)])\n",
    "\n",
    "mast = pd.DataFrame(mast, columns = ['Sales Store Type', 'MAE'])\n",
    "matplotlib.pyplot.boxplot(mast['MAE'])\n",
    "matplotlib.pyplot.show()"
   ]
  },
  {
   "cell_type": "code",
   "execution_count": 121,
   "metadata": {},
   "outputs": [
    {
     "name": "stdout",
     "output_type": "stream",
     "text": [
      "MAE for Department Type 1 = 4973.302\n",
      "MAE for Department Type 2 = 2483.166\n",
      "MAE for Department Type 3 = 14278.115\n"
     ]
    },
    {
     "data": {
      "image/png": "[encoded data removed]",
      "text/plain": [
       "<Figure size 432x288 with 1 Axes>"
      ]
     },
     "metadata": {
      "needs_background": "light"
     },
     "output_type": "display_data"
    }
   ],
   "source": [
    "# MAE for different department types\n",
    "\n",
    "mast = []\n",
    "for types in range(1,4):\n",
    "    print('MAE for Department Type', types, '=', \n",
    "         round(mean_absolute_error(test_df1['Weekly_Sales'][test_df1['Department_Type'] == types], \n",
    "                                   test_df1['Predicted'][test_df1['Department_Type'] == types]), 3))\n",
    "    mast.append([types, round(mean_absolute_error(test_df1['Weekly_Sales'][test_df1['Department_Type'] == types], \n",
    "                                   test_df1['Predicted'][test_df1['Department_Type'] == types]), 3)])\n",
    "\n",
    "mast = pd.DataFrame(mast, columns = ['Department_Type', 'MAE'])\n",
    "matplotlib.pyplot.boxplot(mast['MAE'])\n",
    "matplotlib.pyplot.show()"
   ]
  }
 ],
 "metadata": {
  "kernelspec": {
   "display_name": "Python 3",
   "language": "python",
   "name": "python3"
  },
  "language_info": {
   "codemirror_mode": {
    "name": "ipython",
    "version": 3
   },
   "file_extension": ".py",
   "mimetype": "text/x-python",
   "name": "python",
   "nbconvert_exporter": "python",
   "pygments_lexer": "ipython3",
   "version": "3.7.7"
  }
 },
 "nbformat": 4,
 "nbformat_minor": 4
}
