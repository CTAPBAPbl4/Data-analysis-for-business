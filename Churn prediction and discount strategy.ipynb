{
 "cells": [
  {
   "cell_type": "code",
   "execution_count": 1,
   "metadata": {},
   "outputs": [],
   "source": [
    "import pandas as pd\n",
    "import numpy as np\n",
    "\n",
    "import warnings\n",
    "warnings.filterwarnings('ignore')"
   ]
  },
  {
   "cell_type": "code",
   "execution_count": 28,
   "metadata": {},
   "outputs": [
    {
     "data": {
      "text/html": [
       "<div>\n",
       "<style scoped>\n",
       "    .dataframe tbody tr th:only-of-type {\n",
       "        vertical-align: middle;\n",
       "    }\n",
       "\n",
       "    .dataframe tbody tr th {\n",
       "        vertical-align: top;\n",
       "    }\n",
       "\n",
       "    .dataframe thead th {\n",
       "        text-align: right;\n",
       "    }\n",
       "</style>\n",
       "<table border=\"1\" class=\"dataframe\">\n",
       "  <thead>\n",
       "    <tr style=\"text-align: right;\">\n",
       "      <th></th>\n",
       "      <th>Unnamed: 0</th>\n",
       "      <th>index</th>\n",
       "      <th>customerID</th>\n",
       "      <th>gender</th>\n",
       "      <th>SeniorCitizen</th>\n",
       "      <th>Partner</th>\n",
       "      <th>Dependents</th>\n",
       "      <th>tenure</th>\n",
       "      <th>PhoneService</th>\n",
       "      <th>MultipleLines</th>\n",
       "      <th>...</th>\n",
       "      <th>DeviceProtection</th>\n",
       "      <th>TechSupport</th>\n",
       "      <th>StreamingTV</th>\n",
       "      <th>StreamingMovies</th>\n",
       "      <th>Contract</th>\n",
       "      <th>PaperlessBilling</th>\n",
       "      <th>PaymentMethod</th>\n",
       "      <th>MonthlyCharges</th>\n",
       "      <th>TotalCharges</th>\n",
       "      <th>Churn</th>\n",
       "    </tr>\n",
       "  </thead>\n",
       "  <tbody>\n",
       "    <tr>\n",
       "      <th>0</th>\n",
       "      <td>0</td>\n",
       "      <td>1</td>\n",
       "      <td>5575-GNVDE</td>\n",
       "      <td>Male</td>\n",
       "      <td>No</td>\n",
       "      <td>No</td>\n",
       "      <td>No</td>\n",
       "      <td>34</td>\n",
       "      <td>Yes</td>\n",
       "      <td>No</td>\n",
       "      <td>...</td>\n",
       "      <td>Yes</td>\n",
       "      <td>No</td>\n",
       "      <td>No</td>\n",
       "      <td>No</td>\n",
       "      <td>One year</td>\n",
       "      <td>No</td>\n",
       "      <td>Mailed check</td>\n",
       "      <td>56.95</td>\n",
       "      <td>1889.50</td>\n",
       "      <td>No</td>\n",
       "    </tr>\n",
       "    <tr>\n",
       "      <th>1</th>\n",
       "      <td>1</td>\n",
       "      <td>2</td>\n",
       "      <td>3668-QPYBK</td>\n",
       "      <td>Male</td>\n",
       "      <td>No</td>\n",
       "      <td>No</td>\n",
       "      <td>No</td>\n",
       "      <td>2</td>\n",
       "      <td>Yes</td>\n",
       "      <td>No</td>\n",
       "      <td>...</td>\n",
       "      <td>No</td>\n",
       "      <td>No</td>\n",
       "      <td>No</td>\n",
       "      <td>No</td>\n",
       "      <td>Month-to-month</td>\n",
       "      <td>Yes</td>\n",
       "      <td>Mailed check</td>\n",
       "      <td>53.85</td>\n",
       "      <td>108.15</td>\n",
       "      <td>Yes</td>\n",
       "    </tr>\n",
       "    <tr>\n",
       "      <th>2</th>\n",
       "      <td>2</td>\n",
       "      <td>3</td>\n",
       "      <td>7795-CFOCW</td>\n",
       "      <td>Male</td>\n",
       "      <td>No</td>\n",
       "      <td>No</td>\n",
       "      <td>No</td>\n",
       "      <td>45</td>\n",
       "      <td>No</td>\n",
       "      <td>No phone service</td>\n",
       "      <td>...</td>\n",
       "      <td>Yes</td>\n",
       "      <td>Yes</td>\n",
       "      <td>No</td>\n",
       "      <td>No</td>\n",
       "      <td>One year</td>\n",
       "      <td>No</td>\n",
       "      <td>Bank transfer (automatic)</td>\n",
       "      <td>42.30</td>\n",
       "      <td>1840.75</td>\n",
       "      <td>No</td>\n",
       "    </tr>\n",
       "    <tr>\n",
       "      <th>3</th>\n",
       "      <td>3</td>\n",
       "      <td>4</td>\n",
       "      <td>9237-HQITU</td>\n",
       "      <td>Female</td>\n",
       "      <td>No</td>\n",
       "      <td>No</td>\n",
       "      <td>No</td>\n",
       "      <td>2</td>\n",
       "      <td>Yes</td>\n",
       "      <td>No</td>\n",
       "      <td>...</td>\n",
       "      <td>No</td>\n",
       "      <td>No</td>\n",
       "      <td>No</td>\n",
       "      <td>No</td>\n",
       "      <td>Month-to-month</td>\n",
       "      <td>Yes</td>\n",
       "      <td>Electronic check</td>\n",
       "      <td>70.70</td>\n",
       "      <td>151.65</td>\n",
       "      <td>Yes</td>\n",
       "    </tr>\n",
       "    <tr>\n",
       "      <th>4</th>\n",
       "      <td>4</td>\n",
       "      <td>5</td>\n",
       "      <td>9305-CDSKC</td>\n",
       "      <td>Female</td>\n",
       "      <td>No</td>\n",
       "      <td>No</td>\n",
       "      <td>No</td>\n",
       "      <td>8</td>\n",
       "      <td>Yes</td>\n",
       "      <td>Yes</td>\n",
       "      <td>...</td>\n",
       "      <td>Yes</td>\n",
       "      <td>No</td>\n",
       "      <td>Yes</td>\n",
       "      <td>Yes</td>\n",
       "      <td>Month-to-month</td>\n",
       "      <td>Yes</td>\n",
       "      <td>Electronic check</td>\n",
       "      <td>99.65</td>\n",
       "      <td>820.50</td>\n",
       "      <td>Yes</td>\n",
       "    </tr>\n",
       "    <tr>\n",
       "      <th>...</th>\n",
       "      <td>...</td>\n",
       "      <td>...</td>\n",
       "      <td>...</td>\n",
       "      <td>...</td>\n",
       "      <td>...</td>\n",
       "      <td>...</td>\n",
       "      <td>...</td>\n",
       "      <td>...</td>\n",
       "      <td>...</td>\n",
       "      <td>...</td>\n",
       "      <td>...</td>\n",
       "      <td>...</td>\n",
       "      <td>...</td>\n",
       "      <td>...</td>\n",
       "      <td>...</td>\n",
       "      <td>...</td>\n",
       "      <td>...</td>\n",
       "      <td>...</td>\n",
       "      <td>...</td>\n",
       "      <td>...</td>\n",
       "      <td>...</td>\n",
       "    </tr>\n",
       "    <tr>\n",
       "      <th>6038</th>\n",
       "      <td>6038</td>\n",
       "      <td>7037</td>\n",
       "      <td>2569-WGERO</td>\n",
       "      <td>Female</td>\n",
       "      <td>No</td>\n",
       "      <td>No</td>\n",
       "      <td>No</td>\n",
       "      <td>72</td>\n",
       "      <td>Yes</td>\n",
       "      <td>No</td>\n",
       "      <td>...</td>\n",
       "      <td>No</td>\n",
       "      <td>No</td>\n",
       "      <td>No</td>\n",
       "      <td>No</td>\n",
       "      <td>Two year</td>\n",
       "      <td>Yes</td>\n",
       "      <td>Bank transfer (automatic)</td>\n",
       "      <td>21.15</td>\n",
       "      <td>1419.40</td>\n",
       "      <td>No</td>\n",
       "    </tr>\n",
       "    <tr>\n",
       "      <th>6039</th>\n",
       "      <td>6039</td>\n",
       "      <td>7038</td>\n",
       "      <td>6840-RESVB</td>\n",
       "      <td>Male</td>\n",
       "      <td>No</td>\n",
       "      <td>Yes</td>\n",
       "      <td>Yes</td>\n",
       "      <td>24</td>\n",
       "      <td>Yes</td>\n",
       "      <td>Yes</td>\n",
       "      <td>...</td>\n",
       "      <td>Yes</td>\n",
       "      <td>Yes</td>\n",
       "      <td>Yes</td>\n",
       "      <td>Yes</td>\n",
       "      <td>One year</td>\n",
       "      <td>Yes</td>\n",
       "      <td>Mailed check</td>\n",
       "      <td>84.80</td>\n",
       "      <td>1990.50</td>\n",
       "      <td>No</td>\n",
       "    </tr>\n",
       "    <tr>\n",
       "      <th>6040</th>\n",
       "      <td>6040</td>\n",
       "      <td>7039</td>\n",
       "      <td>2234-XADUH</td>\n",
       "      <td>Female</td>\n",
       "      <td>No</td>\n",
       "      <td>Yes</td>\n",
       "      <td>Yes</td>\n",
       "      <td>72</td>\n",
       "      <td>Yes</td>\n",
       "      <td>Yes</td>\n",
       "      <td>...</td>\n",
       "      <td>Yes</td>\n",
       "      <td>No</td>\n",
       "      <td>Yes</td>\n",
       "      <td>Yes</td>\n",
       "      <td>One year</td>\n",
       "      <td>Yes</td>\n",
       "      <td>Credit card (automatic)</td>\n",
       "      <td>103.20</td>\n",
       "      <td>7362.90</td>\n",
       "      <td>No</td>\n",
       "    </tr>\n",
       "    <tr>\n",
       "      <th>6041</th>\n",
       "      <td>6041</td>\n",
       "      <td>7041</td>\n",
       "      <td>8361-LTMKD</td>\n",
       "      <td>Male</td>\n",
       "      <td>Yes</td>\n",
       "      <td>Yes</td>\n",
       "      <td>No</td>\n",
       "      <td>4</td>\n",
       "      <td>Yes</td>\n",
       "      <td>Yes</td>\n",
       "      <td>...</td>\n",
       "      <td>No</td>\n",
       "      <td>No</td>\n",
       "      <td>No</td>\n",
       "      <td>No</td>\n",
       "      <td>Month-to-month</td>\n",
       "      <td>Yes</td>\n",
       "      <td>Mailed check</td>\n",
       "      <td>74.40</td>\n",
       "      <td>306.60</td>\n",
       "      <td>Yes</td>\n",
       "    </tr>\n",
       "    <tr>\n",
       "      <th>6042</th>\n",
       "      <td>6042</td>\n",
       "      <td>7042</td>\n",
       "      <td>3186-AJIEK</td>\n",
       "      <td>Male</td>\n",
       "      <td>No</td>\n",
       "      <td>No</td>\n",
       "      <td>No</td>\n",
       "      <td>66</td>\n",
       "      <td>Yes</td>\n",
       "      <td>No</td>\n",
       "      <td>...</td>\n",
       "      <td>Yes</td>\n",
       "      <td>Yes</td>\n",
       "      <td>Yes</td>\n",
       "      <td>Yes</td>\n",
       "      <td>Two year</td>\n",
       "      <td>Yes</td>\n",
       "      <td>Bank transfer (automatic)</td>\n",
       "      <td>105.65</td>\n",
       "      <td>6844.50</td>\n",
       "      <td>No</td>\n",
       "    </tr>\n",
       "  </tbody>\n",
       "</table>\n",
       "<p>6043 rows × 23 columns</p>\n",
       "</div>"
      ],
      "text/plain": [
       "      Unnamed: 0  index  customerID  gender SeniorCitizen Partner Dependents  \\\n",
       "0              0      1  5575-GNVDE    Male            No      No         No   \n",
       "1              1      2  3668-QPYBK    Male            No      No         No   \n",
       "2              2      3  7795-CFOCW    Male            No      No         No   \n",
       "3              3      4  9237-HQITU  Female            No      No         No   \n",
       "4              4      5  9305-CDSKC  Female            No      No         No   \n",
       "...          ...    ...         ...     ...           ...     ...        ...   \n",
       "6038        6038   7037  2569-WGERO  Female            No      No         No   \n",
       "6039        6039   7038  6840-RESVB    Male            No     Yes        Yes   \n",
       "6040        6040   7039  2234-XADUH  Female            No     Yes        Yes   \n",
       "6041        6041   7041  8361-LTMKD    Male           Yes     Yes         No   \n",
       "6042        6042   7042  3186-AJIEK    Male            No      No         No   \n",
       "\n",
       "      tenure PhoneService     MultipleLines  ... DeviceProtection TechSupport  \\\n",
       "0         34          Yes                No  ...              Yes          No   \n",
       "1          2          Yes                No  ...               No          No   \n",
       "2         45           No  No phone service  ...              Yes         Yes   \n",
       "3          2          Yes                No  ...               No          No   \n",
       "4          8          Yes               Yes  ...              Yes          No   \n",
       "...      ...          ...               ...  ...              ...         ...   \n",
       "6038      72          Yes                No  ...               No          No   \n",
       "6039      24          Yes               Yes  ...              Yes         Yes   \n",
       "6040      72          Yes               Yes  ...              Yes          No   \n",
       "6041       4          Yes               Yes  ...               No          No   \n",
       "6042      66          Yes                No  ...              Yes         Yes   \n",
       "\n",
       "     StreamingTV StreamingMovies        Contract PaperlessBilling  \\\n",
       "0             No              No        One year               No   \n",
       "1             No              No  Month-to-month              Yes   \n",
       "2             No              No        One year               No   \n",
       "3             No              No  Month-to-month              Yes   \n",
       "4            Yes             Yes  Month-to-month              Yes   \n",
       "...          ...             ...             ...              ...   \n",
       "6038          No              No        Two year              Yes   \n",
       "6039         Yes             Yes        One year              Yes   \n",
       "6040         Yes             Yes        One year              Yes   \n",
       "6041          No              No  Month-to-month              Yes   \n",
       "6042         Yes             Yes        Two year              Yes   \n",
       "\n",
       "                  PaymentMethod MonthlyCharges TotalCharges Churn  \n",
       "0                  Mailed check          56.95      1889.50    No  \n",
       "1                  Mailed check          53.85       108.15   Yes  \n",
       "2     Bank transfer (automatic)          42.30      1840.75    No  \n",
       "3              Electronic check          70.70       151.65   Yes  \n",
       "4              Electronic check          99.65       820.50   Yes  \n",
       "...                         ...            ...          ...   ...  \n",
       "6038  Bank transfer (automatic)          21.15      1419.40    No  \n",
       "6039               Mailed check          84.80      1990.50    No  \n",
       "6040    Credit card (automatic)         103.20      7362.90    No  \n",
       "6041               Mailed check          74.40       306.60   Yes  \n",
       "6042  Bank transfer (automatic)         105.65      6844.50    No  \n",
       "\n",
       "[6043 rows x 23 columns]"
      ]
     },
     "execution_count": 28,
     "metadata": {},
     "output_type": "execute_result"
    }
   ],
   "source": [
    "df = pd.read_csv('telecom_data.csv')\n",
    "df"
   ]
  },
  {
   "cell_type": "code",
   "execution_count": 3,
   "metadata": {},
   "outputs": [],
   "source": [
    "# Changed 'No internet service' to 'No'\n",
    "cols = ['OnlineSecurity', 'OnlineBackup', 'DeviceProtection', 'TechSupport', 'StreamingTV', 'StreamingMovies']\n",
    "for col in cols:\n",
    "    for i in df.index:\n",
    "        if df.loc[i,col] == 'No internet service':\n",
    "            df.loc[i] = 'No'"
   ]
  },
  {
   "cell_type": "code",
   "execution_count": 4,
   "metadata": {},
   "outputs": [
    {
     "data": {
      "text/html": [
       "<div>\n",
       "<style scoped>\n",
       "    .dataframe tbody tr th:only-of-type {\n",
       "        vertical-align: middle;\n",
       "    }\n",
       "\n",
       "    .dataframe tbody tr th {\n",
       "        vertical-align: top;\n",
       "    }\n",
       "\n",
       "    .dataframe thead th {\n",
       "        text-align: right;\n",
       "    }\n",
       "</style>\n",
       "<table border=\"1\" class=\"dataframe\">\n",
       "  <thead>\n",
       "    <tr style=\"text-align: right;\">\n",
       "      <th></th>\n",
       "      <th>index</th>\n",
       "    </tr>\n",
       "    <tr>\n",
       "      <th>tenure_group</th>\n",
       "      <th></th>\n",
       "    </tr>\n",
       "  </thead>\n",
       "  <tbody>\n",
       "    <tr>\n",
       "      <th>0-12</th>\n",
       "      <td>1573</td>\n",
       "    </tr>\n",
       "    <tr>\n",
       "      <th>12-24</th>\n",
       "      <td>844</td>\n",
       "    </tr>\n",
       "    <tr>\n",
       "      <th>24-36</th>\n",
       "      <td>719</td>\n",
       "    </tr>\n",
       "    <tr>\n",
       "      <th>36-48</th>\n",
       "      <td>670</td>\n",
       "    </tr>\n",
       "    <tr>\n",
       "      <th>48-60</th>\n",
       "      <td>775</td>\n",
       "    </tr>\n",
       "    <tr>\n",
       "      <th>60+</th>\n",
       "      <td>1462</td>\n",
       "    </tr>\n",
       "  </tbody>\n",
       "</table>\n",
       "</div>"
      ],
      "text/plain": [
       "              index\n",
       "tenure_group       \n",
       "0-12           1573\n",
       "12-24           844\n",
       "24-36           719\n",
       "36-48           670\n",
       "48-60           775\n",
       "60+            1462"
      ]
     },
     "execution_count": 4,
     "metadata": {},
     "output_type": "execute_result"
    }
   ],
   "source": [
    "# Created 'tenure_group'\n",
    "def ten_group(x):\n",
    "    t = range(0,61,12)\n",
    "    if x >= t[5]:\n",
    "        return '60+'\n",
    "    elif x >= t[4]:\n",
    "        return '48-60'\n",
    "    elif x >= t[3]:\n",
    "        return '36-48'\n",
    "    elif x >= t[2]:\n",
    "        return '24-36'\n",
    "    elif x >= t[1]:\n",
    "        return '12-24'\n",
    "    else:\n",
    "        return '0-12'\n",
    "\n",
    "df['tenure_group'] = df['tenure'].apply(ten_group)\n",
    "df.groupby('tenure_group').agg({'index':'count'})"
   ]
  },
  {
   "cell_type": "code",
   "execution_count": 5,
   "metadata": {},
   "outputs": [
    {
     "name": "stdout",
     "output_type": "stream",
     "text": [
      "Количество бинарных переменных 13\n"
     ]
    }
   ],
   "source": [
    "# Preprocess categorical columns\n",
    "col_to = []\n",
    "for col in df.columns:\n",
    "    if df[col].nunique() == 2:\n",
    "        col_to.append(col)\n",
    "            \n",
    "for col in col_to[1:]:\n",
    "    df[col] = df[col].apply(lambda x: 1 if x == 'Yes' else 0)\n",
    "\n",
    "df['gender'] = df['gender'].apply(lambda x: 1 if x == 'Female' else 0)\n",
    "\n",
    "print('Количество бинарных переменных', len(col_to))"
   ]
  },
  {
   "cell_type": "code",
   "execution_count": 6,
   "metadata": {},
   "outputs": [
    {
     "name": "stdout",
     "output_type": "stream",
     "text": [
      "Количество переменных для one hot  =  5\n"
     ]
    }
   ],
   "source": [
    "# Encoding other categorical variables and drop customerID\n",
    "enc_cols = []\n",
    "\n",
    "for col in df.columns:\n",
    "    if 2 < df[col].nunique() < 10:\n",
    "        enc_cols.append(col)\n",
    "\n",
    "print('Количество переменных для one hot  = ', len(enc_cols))\n",
    "\n",
    "for col in enc_cols:\n",
    "    one_hot = pd.get_dummies(df[col], sparse=True, prefix = col)\n",
    "    df = df.join(one_hot)\n",
    "\n",
    "df = df.drop(columns = enc_cols)\n",
    "df = df.drop(columns = df.columns[0:2].tolist())\n",
    "df = df.drop(columns = 'customerID')"
   ]
  },
  {
   "cell_type": "code",
   "execution_count": 7,
   "metadata": {},
   "outputs": [],
   "source": [
    "# Split our data to 5 folds\n",
    "from sklearn.model_selection import KFold\n",
    "kf = KFold(n_splits=5)"
   ]
  },
  {
   "cell_type": "code",
   "execution_count": 8,
   "metadata": {},
   "outputs": [
    {
     "data": {
      "text/plain": [
       "({'C': 0.17}, 0.93175448180099)"
      ]
     },
     "execution_count": 8,
     "metadata": {},
     "output_type": "execute_result"
    }
   ],
   "source": [
    "# Grid search for log regression\n",
    "from sklearn.model_selection import GridSearchCV\n",
    "from sklearn.linear_model import LogisticRegression\n",
    "\n",
    "col = 'Churn'\n",
    "y = df[col]\n",
    "x = df.drop(columns = col)\n",
    "\n",
    "cc = []\n",
    "c = 0\n",
    "while c <= 1:\n",
    "    c += 0.01\n",
    "    cc.append(round(c,2))\n",
    "\n",
    "params = {'C':cc}\n",
    "\n",
    "score = 'roc_auc'\n",
    "model = LogisticRegression(max_iter = 1000)\n",
    "\n",
    "cv = GridSearchCV(model, params, score, cv=kf)\n",
    "cv.fit(x, y)\n",
    "cv.best_params_, cv.best_score_"
   ]
  },
  {
   "cell_type": "code",
   "execution_count": 9,
   "metadata": {},
   "outputs": [
    {
     "data": {
      "text/plain": [
       "({'max_depth': 9, 'n_estimators': 130}, 0.9311415087967587)"
      ]
     },
     "execution_count": 9,
     "metadata": {},
     "output_type": "execute_result"
    }
   ],
   "source": [
    "# Grid search for forrest\n",
    "from sklearn.ensemble import RandomForestClassifier\n",
    "\n",
    "params = {'max_depth':list(range(3,22,3)),\n",
    "         'n_estimators':list(range(10,160,20))}\n",
    "\n",
    "score = 'roc_auc'\n",
    "model = RandomForestClassifier()\n",
    "\n",
    "cv = GridSearchCV(model, params, score, cv=kf)\n",
    "cv.fit(x, y)\n",
    "cv.best_params_, cv.best_score_"
   ]
  },
  {
   "cell_type": "code",
   "execution_count": 12,
   "metadata": {},
   "outputs": [
    {
     "name": "stdout",
     "output_type": "stream",
     "text": [
      "0.93175448180099\n"
     ]
    }
   ],
   "source": [
    "from sklearn.linear_model import LogisticRegression\n",
    "from sklearn.model_selection import cross_val_predict\n",
    "from sklearn.model_selection import cross_val_score\n",
    "    \n",
    "col = 'Churn'\n",
    "y = df[col]\n",
    "x = df.drop(columns = col)\n",
    "\n",
    "lr_model = LogisticRegression(max_iter = 1000, C = 0.17)\n",
    "\n",
    "print(cross_val_score(lr_model, x, y, cv=kf, scoring=('roc_auc')).mean())"
   ]
  },
  {
   "cell_type": "code",
   "execution_count": 13,
   "metadata": {},
   "outputs": [],
   "source": [
    "# log regressin have higher accuracy, so we'll use it to make our predictions\n",
    "df['Churn_predicted'] = cross_val_predict(lr_model, x, y, cv=kf)"
   ]
  },
  {
   "cell_type": "code",
   "execution_count": 14,
   "metadata": {},
   "outputs": [
    {
     "name": "stdout",
     "output_type": "stream",
     "text": [
      "Confusion matrix for churn\n",
      "    predicted\n",
      "      0     1\n",
      "0  3958   216\n",
      "1   451  1418\n"
     ]
    }
   ],
   "source": [
    "# Confusion matrix for our results\n",
    "from sklearn.metrics import confusion_matrix\n",
    "from matplotlib.pyplot import imshow\n",
    "\n",
    "cm = pd.DataFrame(confusion_matrix(df['Churn'], df['Churn_predicted']))\n",
    "print('Confusion matrix for churn')\n",
    "print('    predicted')\n",
    "print(cm)"
   ]
  },
  {
   "cell_type": "code",
   "execution_count": 15,
   "metadata": {},
   "outputs": [
    {
     "name": "stdout",
     "output_type": "stream",
     "text": [
      "customers pay \"p\"  = 62.85776104583815\n"
     ]
    }
   ],
   "source": [
    "# find mean payment\n",
    "p = df['MonthlyCharges'].mean()\n",
    "print('customers pay \"p\"  =', p)"
   ]
  },
  {
   "cell_type": "code",
   "execution_count": 16,
   "metadata": {},
   "outputs": [],
   "source": [
    "# Function to find total profit\n",
    "def profit(p, discount, acceptance):\n",
    "    gains = cm.loc[1,1] * p * (acceptance / 100)\n",
    "    costs = (cm.loc[1,1] + cm.loc[0,1]) * (discount / 100) * p\n",
    "    losses = (cm.loc[1,0] * p) + (cm.loc[1,1] * (1 - (acceptance / 100)) * (1 - (discount / 100)) * p)\n",
    "    return (f'Total profit for discount {discount} and acceptance {acceptance} = ', (gains - costs) - losses)"
   ]
  },
  {
   "cell_type": "code",
   "execution_count": 17,
   "metadata": {},
   "outputs": [
    {
     "name": "stdout",
     "output_type": "stream",
     "text": [
      "('Total profit for discount 20 and acceptance 75 = ', 132.00129819625727)\n",
      "('Total profit for discount 30 and acceptance 90 = ', 14818.08858894588)\n"
     ]
    }
   ],
   "source": [
    "# Total profit for our 2 strategies\n",
    "print(profit(p = p, discount = 20, acceptance = 75))\n",
    "print(profit(p = p, discount = 30, acceptance = 90))"
   ]
  },
  {
   "cell_type": "code",
   "execution_count": 18,
   "metadata": {},
   "outputs": [
    {
     "name": "stdout",
     "output_type": "stream",
     "text": [
      "a) TP = 1418, FP = 216, TN = 3958, FN = 451\n",
      "b) Losses for doing nothing  = 117481.15539467151\n",
      "c) Total gains = 80219.07464669865\n",
      "d) Total costs = 50327.694958960776\n",
      "e) Total losses = 34588.111593082904\n",
      "f) ('Total profit for discount 30 and acceptance 90 = ', 14818.08858894588)\n",
      "g) Profit per customer = 2.7188155643730285\n"
     ]
    }
   ],
   "source": [
    "# Description strategy B\n",
    "print(f'a) TP = {cm.loc[1,1]}, FP = {cm.loc[0,1]}, TN = {cm.loc[0,0]}, FN = {cm.loc[1,0]}' )\n",
    "print(f'b) Losses for doing nothing  = {(cm.loc[1,1] + cm.loc[1,0]) * p}')\n",
    "print(f'c) Total gains = {cm.loc[1,1] * p * (90 / 100)}')\n",
    "print(f'd) Total costs = {(cm.loc[1,1] + cm.loc[0,1]) * (1 - (30 / 100)) * (1 - (30 / 100))* p}')\n",
    "print(f'e) Total losses = {(cm.loc[1,0] * p) + (cm.loc[1,1] * (1 - (90 / 100)) * (1 - (30 / 100)) * p)}')\n",
    "print(f'f) {profit(p = p, discount = 30, acceptance = 90)}')\n",
    "print(f'g) Profit per customer = {14818.08858894588 / (cm.loc[1,1]*0.9 + cm.loc[0,1] + cm.loc[0,0])}')"
   ]
  },
  {
   "cell_type": "code",
   "execution_count": 19,
   "metadata": {},
   "outputs": [],
   "source": [
    "# predict probability to change threshold\n",
    "df['Churn_probability'] = ''\n",
    "df['Churn_probability'] = cross_val_predict(estimator = lr_model, X = x, y = y, cv=kf, method='predict_proba')"
   ]
  },
  {
   "cell_type": "code",
   "execution_count": 20,
   "metadata": {},
   "outputs": [],
   "source": [
    "# create predictions with different thresholds\n",
    "thresholds = []\n",
    "cols_thresh = []\n",
    "i = 0.1\n",
    "while i <= 0.9:\n",
    "    thresholds.append(round(i,1))\n",
    "    i += 0.1\n",
    "for threshold in thresholds:\n",
    "    df[f'threshold_{threshold}'] = ''\n",
    "    df[f'threshold_{threshold}'] = df['Churn_probability'].apply(lambda x: 0 if x>= threshold else 1)\n",
    "    cols_thresh.append(f'threshold_{threshold}') "
   ]
  },
  {
   "cell_type": "code",
   "execution_count": 21,
   "metadata": {},
   "outputs": [
    {
     "name": "stdout",
     "output_type": "stream",
     "text": [
      "threshold_0.1\n",
      "\n",
      "      0    1\n",
      "0  4174    0\n",
      "1  1019  850\n",
      "\n",
      "threshold_0.2\n",
      "\n",
      "      0     1\n",
      "0  4174     0\n",
      "1   775  1094\n",
      "\n",
      "threshold_0.3\n",
      "\n",
      "      0     1\n",
      "0  4164    10\n",
      "1   646  1223\n",
      "\n",
      "threshold_0.4\n",
      "\n",
      "      0     1\n",
      "0  4096    78\n",
      "1   530  1339\n",
      "\n",
      "threshold_0.5\n",
      "\n",
      "      0     1\n",
      "0  3958   216\n",
      "1   451  1418\n",
      "\n",
      "threshold_0.6\n",
      "\n",
      "      0     1\n",
      "0  3753   421\n",
      "1   368  1501\n",
      "\n",
      "threshold_0.7\n",
      "\n",
      "      0     1\n",
      "0  3515   659\n",
      "1   297  1572\n",
      "\n",
      "threshold_0.8\n",
      "\n",
      "      0     1\n",
      "0  3140  1034\n",
      "1   195  1674\n",
      "\n",
      "threshold_0.9\n",
      "\n",
      "      0     1\n",
      "0  2652  1522\n",
      "1   117  1752\n",
      "\n"
     ]
    }
   ],
   "source": [
    "for thr in cols_thresh:\n",
    "    print(thr)\n",
    "    print()\n",
    "    print(pd.DataFrame(confusion_matrix(df['Churn'], df[thr])))\n",
    "    print()"
   ]
  },
  {
   "cell_type": "code",
   "execution_count": 22,
   "metadata": {},
   "outputs": [
    {
     "data": {
      "text/html": [
       "<div>\n",
       "<style scoped>\n",
       "    .dataframe tbody tr th:only-of-type {\n",
       "        vertical-align: middle;\n",
       "    }\n",
       "\n",
       "    .dataframe tbody tr th {\n",
       "        vertical-align: top;\n",
       "    }\n",
       "\n",
       "    .dataframe thead th {\n",
       "        text-align: right;\n",
       "    }\n",
       "</style>\n",
       "<table border=\"1\" class=\"dataframe\">\n",
       "  <thead>\n",
       "    <tr style=\"text-align: right;\">\n",
       "      <th></th>\n",
       "      <th>0</th>\n",
       "      <th>1</th>\n",
       "    </tr>\n",
       "  </thead>\n",
       "  <tbody>\n",
       "    <tr>\n",
       "      <th>3</th>\n",
       "      <td>threshold_0.4</td>\n",
       "      <td>0.899388</td>\n",
       "    </tr>\n",
       "  </tbody>\n",
       "</table>\n",
       "</div>"
      ],
      "text/plain": [
       "               0         1\n",
       "3  threshold_0.4  0.899388"
      ]
     },
     "execution_count": 22,
     "metadata": {},
     "output_type": "execute_result"
    }
   ],
   "source": [
    "# Find threshhold with better accuracy \n",
    "def accuracy(real, pred):\n",
    "    cm = pd.DataFrame(confusion_matrix(real, pred))\n",
    "    accuracy = (cm.loc[1,1] + cm.loc[0,0]) / (cm.loc[1,1] + cm.loc[1,0] + cm.loc[0,1] + cm.loc[0,0])\n",
    "    return accuracy\n",
    "\n",
    "qqq = []\n",
    "for thresh in cols_thresh:\n",
    "    qqq.append([thresh, accuracy(real = df['Churn'], pred = df[thresh])])\n",
    "\n",
    "ac_tab = pd.DataFrame(qqq)\n",
    "ac_tab[ac_tab[1] == ac_tab[1].max()]"
   ]
  },
  {
   "cell_type": "code",
   "execution_count": 23,
   "metadata": {},
   "outputs": [
    {
     "data": {
      "text/html": [
       "<div>\n",
       "<style scoped>\n",
       "    .dataframe tbody tr th:only-of-type {\n",
       "        vertical-align: middle;\n",
       "    }\n",
       "\n",
       "    .dataframe tbody tr th {\n",
       "        vertical-align: top;\n",
       "    }\n",
       "\n",
       "    .dataframe thead th {\n",
       "        text-align: right;\n",
       "    }\n",
       "</style>\n",
       "<table border=\"1\" class=\"dataframe\">\n",
       "  <thead>\n",
       "    <tr style=\"text-align: right;\">\n",
       "      <th></th>\n",
       "      <th>0</th>\n",
       "      <th>1</th>\n",
       "    </tr>\n",
       "  </thead>\n",
       "  <tbody>\n",
       "    <tr>\n",
       "      <th>7</th>\n",
       "      <td>threshold_0.8</td>\n",
       "      <td>24012.921875</td>\n",
       "    </tr>\n",
       "  </tbody>\n",
       "</table>\n",
       "</div>"
      ],
      "text/plain": [
       "               0             1\n",
       "7  threshold_0.8  24012.921875"
      ]
     },
     "execution_count": 23,
     "metadata": {},
     "output_type": "execute_result"
    }
   ],
   "source": [
    "# Find the most profitable threshhold\n",
    "def profitability(real, pred, p):\n",
    "    cm = pd.DataFrame(confusion_matrix(real, pred))\n",
    "    gains = cm.loc[1,1] * p * (90 / 100)\n",
    "    costs = (cm.loc[1,1] + cm.loc[0,1]) * (30 / 100) * p\n",
    "    losses = (cm.loc[1,0] * p) + (cm.loc[1,1] * (1 - (90 / 100)) * (1 - (30 / 100)) * p)\n",
    "    return ((gains - costs) - losses)\n",
    "\n",
    "qqq = []\n",
    "for thresh in cols_thresh:\n",
    "    qqq.append([thresh, profitability(real = df['Churn'], pred = df[thresh], p = p)])\n",
    "\n",
    "prof_tab = pd.DataFrame(qqq)\n",
    "prof_tab[prof_tab[1] == prof_tab[1].max()]"
   ]
  },
  {
   "cell_type": "code",
   "execution_count": 24,
   "metadata": {},
   "outputs": [
    {
     "name": "stdout",
     "output_type": "stream",
     "text": [
      "               0         1\n",
      "7  threshold_0.8  4.227181\n",
      "\n",
      "ratio is 0.06724993838679014\n"
     ]
    }
   ],
   "source": [
    "# Find the most profitable per customer threshhold\n",
    "def prof_per_cust(real, pred, p):\n",
    "    cm = pd.DataFrame(confusion_matrix(real, pred))\n",
    "    gains = cm.loc[1,1] * p * (90 / 100)\n",
    "    costs = (cm.loc[1,1] + cm.loc[0,1]) * (30 / 100) * p\n",
    "    losses = (cm.loc[1,0] * p) + (cm.loc[1,1] * (1 - (90 / 100)) * (1 - (30 / 100)) * p)\n",
    "    return (((gains - costs) - losses)/(cm.loc[1,1]*0.9 + cm.loc[0,1] + cm.loc[0,0]))\n",
    "\n",
    "qqq = []\n",
    "for thresh in cols_thresh:\n",
    "    qqq.append([thresh, prof_per_cust(real = df['Churn'], pred = df[thresh], p = p)])\n",
    "\n",
    "prof_per_tab = pd.DataFrame(qqq)\n",
    "\n",
    "print(prof_per_tab[prof_per_tab[1] == prof_per_tab[1].max()])\n",
    "print()\n",
    "print(f'ratio is {(prof_per_tab[prof_per_tab[1] == prof_per_tab[1].max()].loc[7,1] / p)}')"
   ]
  },
  {
   "cell_type": "code",
   "execution_count": 25,
   "metadata": {},
   "outputs": [
    {
     "data": {
      "text/html": [
       "<div>\n",
       "<style scoped>\n",
       "    .dataframe tbody tr th:only-of-type {\n",
       "        vertical-align: middle;\n",
       "    }\n",
       "\n",
       "    .dataframe tbody tr th {\n",
       "        vertical-align: top;\n",
       "    }\n",
       "\n",
       "    .dataframe thead th {\n",
       "        text-align: right;\n",
       "    }\n",
       "</style>\n",
       "<table border=\"1\" class=\"dataframe\">\n",
       "  <thead>\n",
       "    <tr style=\"text-align: right;\">\n",
       "      <th></th>\n",
       "      <th>0</th>\n",
       "      <th>1</th>\n",
       "    </tr>\n",
       "  </thead>\n",
       "  <tbody>\n",
       "    <tr>\n",
       "      <th>8</th>\n",
       "      <td>threshold_0.9</td>\n",
       "      <td>12056.118569</td>\n",
       "    </tr>\n",
       "  </tbody>\n",
       "</table>\n",
       "</div>"
      ],
      "text/plain": [
       "               0             1\n",
       "8  threshold_0.9  12056.118569"
      ]
     },
     "execution_count": 25,
     "metadata": {},
     "output_type": "execute_result"
    }
   ],
   "source": [
    "# Same operation with thresholds with approach A\n",
    "def profitability_2(real, pred, p):\n",
    "    cm = pd.DataFrame(confusion_matrix(real, pred))\n",
    "    gains = cm.loc[1,1] * p * (75 / 100)\n",
    "    costs = (cm.loc[1,1] + cm.loc[0,1]) * (20 / 100) * p\n",
    "    losses = (cm.loc[1,0] * p) + (cm.loc[1,1] * (1 - (75 / 100)) * (1 - (20 / 100)) * p)\n",
    "    return ((gains - costs) - losses)\n",
    "\n",
    "qqq = []\n",
    "for thresh in cols_thresh:\n",
    "    qqq.append([thresh, profitability_2(real = df['Churn'], pred = df[thresh], p = p)])\n",
    "\n",
    "prof_tab_2 = pd.DataFrame(qqq)\n",
    "prof_tab_2[prof_tab_2[1] == prof_tab_2[1].max()]"
   ]
  },
  {
   "cell_type": "code",
   "execution_count": 26,
   "metadata": {},
   "outputs": [
    {
     "name": "stdout",
     "output_type": "stream",
     "text": [
      "Data for threshhold 0.8\n",
      "\n",
      "TP = 1674, FP = 1034, TN = 3140, FN = 195\n",
      "\n",
      "Total profit = 24012.921874731095\n"
     ]
    }
   ],
   "source": [
    "# The most profitable is threshold 0.8 for strategy B.\n",
    "cm8 = pd.DataFrame(confusion_matrix(df['Churn'], df['threshold_0.8']))\n",
    "print('Data for threshhold 0.8')\n",
    "print()\n",
    "print(f'TP = {cm8.loc[1,1]}, FP = {cm8.loc[0,1]}, TN = {cm8.loc[0,0]}, FN = {cm8.loc[1,0]}' )\n",
    "print()\n",
    "print(f'Total profit = {prof_tab[prof_tab[1] == prof_tab[1].max()].loc[7,1]}')"
   ]
  },
  {
   "cell_type": "code",
   "execution_count": 27,
   "metadata": {},
   "outputs": [
    {
     "name": "stdout",
     "output_type": "stream",
     "text": [
      "Data for threshhold 0.8\n",
      "\n",
      "TP = 1674, FP = 1034, TN = 3140, FN = 195\n",
      "\n",
      "Profit per customer = 4.227180557464193 \n"
     ]
    }
   ],
   "source": [
    "# The most profitable per customer is threshold 0.8 for strategy B.\n",
    "cm8 = pd.DataFrame(confusion_matrix(df['Churn'], df['threshold_0.8']))\n",
    "print('Data for threshhold 0.8')\n",
    "print()\n",
    "print(f'TP = {cm8.loc[1,1]}, FP = {cm8.loc[0,1]}, TN = {cm8.loc[0,0]}, FN = {cm8.loc[1,0]}' )\n",
    "print()\n",
    "print(f'Profit per customer = {prof_tab[prof_tab[1] == prof_tab[1].max()].loc[7,1] / (cm8.loc[1,1]*0.9 + cm8.loc[0,1] + cm8.loc[0,0])} ')"
   ]
  }
 ],
 "metadata": {
  "kernelspec": {
   "display_name": "Python 3",
   "language": "python",
   "name": "python3"
  },
  "language_info": {
   "codemirror_mode": {
    "name": "ipython",
    "version": 3
   },
   "file_extension": ".py",
   "mimetype": "text/x-python",
   "name": "python",
   "nbconvert_exporter": "python",
   "pygments_lexer": "ipython3",
   "version": "3.7.7"
  }
 },
 "nbformat": 4,
 "nbformat_minor": 4
}
